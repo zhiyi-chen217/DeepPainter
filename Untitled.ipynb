{
 "cells": [
  {
   "cell_type": "code",
   "execution_count": 2,
   "id": "d182de60",
   "metadata": {
    "scrolled": true
   },
   "outputs": [
    {
     "name": "stdout",
     "output_type": "stream",
     "text": [
      "Requirement already satisfied: torchvision in /home/zhiyi/anaconda3/lib/python3.9/site-packages (0.15.2)\n",
      "Requirement already satisfied: torch in /home/zhiyi/anaconda3/lib/python3.9/site-packages (2.0.1)\n",
      "Requirement already satisfied: requests in /home/zhiyi/anaconda3/lib/python3.9/site-packages (from torchvision) (2.27.1)\n",
      "Requirement already satisfied: pillow!=8.3.*,>=5.3.0 in /home/zhiyi/anaconda3/lib/python3.9/site-packages (from torchvision) (9.0.1)\n",
      "Requirement already satisfied: numpy in /home/zhiyi/anaconda3/lib/python3.9/site-packages (from torchvision) (1.21.5)\n",
      "Requirement already satisfied: nvidia-cufft-cu11==10.9.0.58 in /home/zhiyi/anaconda3/lib/python3.9/site-packages (from torch) (10.9.0.58)\n",
      "Requirement already satisfied: nvidia-cuda-runtime-cu11==11.7.99 in /home/zhiyi/anaconda3/lib/python3.9/site-packages (from torch) (11.7.99)\n",
      "Requirement already satisfied: nvidia-cuda-cupti-cu11==11.7.101 in /home/zhiyi/anaconda3/lib/python3.9/site-packages (from torch) (11.7.101)\n",
      "Requirement already satisfied: nvidia-curand-cu11==10.2.10.91 in /home/zhiyi/anaconda3/lib/python3.9/site-packages (from torch) (10.2.10.91)\n",
      "Requirement already satisfied: networkx in /home/zhiyi/anaconda3/lib/python3.9/site-packages (from torch) (2.7.1)\n",
      "Requirement already satisfied: nvidia-nccl-cu11==2.14.3 in /home/zhiyi/anaconda3/lib/python3.9/site-packages (from torch) (2.14.3)\n",
      "Requirement already satisfied: triton==2.0.0 in /home/zhiyi/anaconda3/lib/python3.9/site-packages (from torch) (2.0.0)\n",
      "Requirement already satisfied: nvidia-nvtx-cu11==11.7.91 in /home/zhiyi/anaconda3/lib/python3.9/site-packages (from torch) (11.7.91)\n",
      "Requirement already satisfied: nvidia-cublas-cu11==11.10.3.66 in /home/zhiyi/anaconda3/lib/python3.9/site-packages (from torch) (11.10.3.66)\n",
      "Requirement already satisfied: jinja2 in /home/zhiyi/anaconda3/lib/python3.9/site-packages (from torch) (2.11.3)\n",
      "Requirement already satisfied: typing-extensions in /home/zhiyi/anaconda3/lib/python3.9/site-packages (from torch) (4.1.1)\n",
      "Requirement already satisfied: sympy in /home/zhiyi/anaconda3/lib/python3.9/site-packages (from torch) (1.10.1)\n",
      "Requirement already satisfied: nvidia-cuda-nvrtc-cu11==11.7.99 in /home/zhiyi/anaconda3/lib/python3.9/site-packages (from torch) (11.7.99)\n",
      "Requirement already satisfied: nvidia-cusolver-cu11==11.4.0.1 in /home/zhiyi/anaconda3/lib/python3.9/site-packages (from torch) (11.4.0.1)\n",
      "Requirement already satisfied: filelock in /home/zhiyi/anaconda3/lib/python3.9/site-packages (from torch) (3.6.0)\n",
      "Requirement already satisfied: nvidia-cusparse-cu11==11.7.4.91 in /home/zhiyi/anaconda3/lib/python3.9/site-packages (from torch) (11.7.4.91)\n",
      "Requirement already satisfied: nvidia-cudnn-cu11==8.5.0.96 in /home/zhiyi/anaconda3/lib/python3.9/site-packages (from torch) (8.5.0.96)\n",
      "Requirement already satisfied: setuptools in /home/zhiyi/anaconda3/lib/python3.9/site-packages (from nvidia-cublas-cu11==11.10.3.66->torch) (61.2.0)\n",
      "Requirement already satisfied: wheel in /home/zhiyi/anaconda3/lib/python3.9/site-packages (from nvidia-cublas-cu11==11.10.3.66->torch) (0.37.1)\n",
      "Requirement already satisfied: lit in /home/zhiyi/anaconda3/lib/python3.9/site-packages (from triton==2.0.0->torch) (16.0.3)\n",
      "Requirement already satisfied: cmake in /home/zhiyi/anaconda3/lib/python3.9/site-packages (from triton==2.0.0->torch) (3.26.3)\n",
      "Requirement already satisfied: MarkupSafe>=0.23 in /home/zhiyi/anaconda3/lib/python3.9/site-packages (from jinja2->torch) (2.0.1)\n",
      "Requirement already satisfied: idna<4,>=2.5 in /home/zhiyi/anaconda3/lib/python3.9/site-packages (from requests->torchvision) (3.3)\n",
      "Requirement already satisfied: urllib3<1.27,>=1.21.1 in /home/zhiyi/anaconda3/lib/python3.9/site-packages (from requests->torchvision) (1.26.9)\n",
      "Requirement already satisfied: certifi>=2017.4.17 in /home/zhiyi/anaconda3/lib/python3.9/site-packages (from requests->torchvision) (2021.10.8)\n",
      "Requirement already satisfied: charset-normalizer~=2.0.0 in /home/zhiyi/anaconda3/lib/python3.9/site-packages (from requests->torchvision) (2.0.4)\n",
      "Requirement already satisfied: mpmath>=0.19 in /home/zhiyi/anaconda3/lib/python3.9/site-packages (from sympy->torch) (1.2.1)\n",
      "Collecting deeplake\n",
      "  Downloading deeplake-3.6.8.tar.gz (523 kB)\n",
      "\u001b[K     |████████████████████████████████| 523 kB 3.6 MB/s eta 0:00:01\n",
      "\u001b[?25hRequirement already satisfied: numpy in /home/zhiyi/anaconda3/lib/python3.9/site-packages (from deeplake) (1.21.5)\n",
      "Requirement already satisfied: pillow in /home/zhiyi/anaconda3/lib/python3.9/site-packages (from deeplake) (9.0.1)\n",
      "Requirement already satisfied: boto3 in /home/zhiyi/anaconda3/lib/python3.9/site-packages (from deeplake) (1.21.32)\n",
      "Requirement already satisfied: click in /home/zhiyi/anaconda3/lib/python3.9/site-packages (from deeplake) (8.0.4)\n",
      "Collecting pathos\n",
      "  Downloading pathos-0.3.0-py3-none-any.whl (79 kB)\n",
      "\u001b[K     |████████████████████████████████| 79 kB 31.6 MB/s  eta 0:00:01\n",
      "\u001b[?25hCollecting humbug>=0.3.1\n",
      "  Downloading humbug-0.3.1-py3-none-any.whl (15 kB)\n",
      "Requirement already satisfied: tqdm in /home/zhiyi/anaconda3/lib/python3.9/site-packages (from deeplake) (4.64.0)\n",
      "Collecting numcodecs\n",
      "  Downloading numcodecs-0.11.0-cp39-cp39-manylinux_2_17_x86_64.manylinux2014_x86_64.whl (6.7 MB)\n",
      "\u001b[K     |████████████████████████████████| 6.7 MB 33.5 MB/s eta 0:00:01\n",
      "\u001b[?25hRequirement already satisfied: pyjwt in /home/zhiyi/anaconda3/lib/python3.9/site-packages (from deeplake) (2.4.0)\n",
      "Collecting aioboto3>=10.4.0\n",
      "  Downloading aioboto3-11.2.0-py3-none-any.whl (32 kB)\n",
      "Requirement already satisfied: nest_asyncio in /home/zhiyi/anaconda3/lib/python3.9/site-packages (from deeplake) (1.5.5)\n",
      "Collecting aiobotocore[boto3]==2.5.0\n",
      "  Downloading aiobotocore-2.5.0-py3-none-any.whl (72 kB)\n",
      "\u001b[K     |████████████████████████████████| 72 kB 1.9 MB/s  eta 0:00:01\n",
      "\u001b[?25hCollecting botocore<1.29.77,>=1.29.76\n",
      "  Downloading botocore-1.29.76-py3-none-any.whl (10.4 MB)\n",
      "\u001b[K     |████████████████████████████████| 10.4 MB 60.8 MB/s eta 0:00:01\n",
      "\u001b[?25hRequirement already satisfied: wrapt>=1.10.10 in /home/zhiyi/anaconda3/lib/python3.9/site-packages (from aiobotocore[boto3]==2.5.0->aioboto3>=10.4.0->deeplake) (1.12.1)\n",
      "Requirement already satisfied: aiohttp>=3.3.1 in /home/zhiyi/anaconda3/lib/python3.9/site-packages (from aiobotocore[boto3]==2.5.0->aioboto3>=10.4.0->deeplake) (3.8.1)\n",
      "Collecting aioitertools>=0.5.1\n",
      "  Downloading aioitertools-0.11.0-py3-none-any.whl (23 kB)\n",
      "Collecting boto3\n",
      "  Downloading boto3-1.26.76-py3-none-any.whl (132 kB)\n",
      "\u001b[K     |████████████████████████████████| 132 kB 83.5 MB/s eta 0:00:01\n",
      "\u001b[?25hRequirement already satisfied: yarl<2.0,>=1.0 in /home/zhiyi/anaconda3/lib/python3.9/site-packages (from aiohttp>=3.3.1->aiobotocore[boto3]==2.5.0->aioboto3>=10.4.0->deeplake) (1.6.3)\n",
      "Requirement already satisfied: aiosignal>=1.1.2 in /home/zhiyi/anaconda3/lib/python3.9/site-packages (from aiohttp>=3.3.1->aiobotocore[boto3]==2.5.0->aioboto3>=10.4.0->deeplake) (1.2.0)\n",
      "Requirement already satisfied: attrs>=17.3.0 in /home/zhiyi/anaconda3/lib/python3.9/site-packages (from aiohttp>=3.3.1->aiobotocore[boto3]==2.5.0->aioboto3>=10.4.0->deeplake) (21.4.0)\n",
      "Requirement already satisfied: multidict<7.0,>=4.5 in /home/zhiyi/anaconda3/lib/python3.9/site-packages (from aiohttp>=3.3.1->aiobotocore[boto3]==2.5.0->aioboto3>=10.4.0->deeplake) (5.2.0)\n",
      "Requirement already satisfied: charset-normalizer<3.0,>=2.0 in /home/zhiyi/anaconda3/lib/python3.9/site-packages (from aiohttp>=3.3.1->aiobotocore[boto3]==2.5.0->aioboto3>=10.4.0->deeplake) (2.0.4)\n",
      "Requirement already satisfied: frozenlist>=1.1.1 in /home/zhiyi/anaconda3/lib/python3.9/site-packages (from aiohttp>=3.3.1->aiobotocore[boto3]==2.5.0->aioboto3>=10.4.0->deeplake) (1.2.0)\n",
      "Requirement already satisfied: async-timeout<5.0,>=4.0.0a3 in /home/zhiyi/anaconda3/lib/python3.9/site-packages (from aiohttp>=3.3.1->aiobotocore[boto3]==2.5.0->aioboto3>=10.4.0->deeplake) (4.0.1)\n",
      "Requirement already satisfied: typing_extensions>=4.0 in /home/zhiyi/anaconda3/lib/python3.9/site-packages (from aioitertools>=0.5.1->aiobotocore[boto3]==2.5.0->aioboto3>=10.4.0->deeplake) (4.1.1)\n",
      "Collecting s3transfer<0.7.0,>=0.6.0\n",
      "  Downloading s3transfer-0.6.1-py3-none-any.whl (79 kB)\n",
      "\u001b[K     |████████████████████████████████| 79 kB 24.3 MB/s eta 0:00:01\n",
      "\u001b[?25hRequirement already satisfied: jmespath<2.0.0,>=0.7.1 in /home/zhiyi/anaconda3/lib/python3.9/site-packages (from boto3->deeplake) (0.10.0)\n"
     ]
    },
    {
     "name": "stdout",
     "output_type": "stream",
     "text": [
      "Requirement already satisfied: python-dateutil<3.0.0,>=2.1 in /home/zhiyi/anaconda3/lib/python3.9/site-packages (from botocore<1.29.77,>=1.29.76->aiobotocore[boto3]==2.5.0->aioboto3>=10.4.0->deeplake) (2.8.2)\n",
      "Requirement already satisfied: urllib3<1.27,>=1.25.4 in /home/zhiyi/anaconda3/lib/python3.9/site-packages (from botocore<1.29.77,>=1.29.76->aiobotocore[boto3]==2.5.0->aioboto3>=10.4.0->deeplake) (1.26.9)\n",
      "Requirement already satisfied: requests in /home/zhiyi/anaconda3/lib/python3.9/site-packages (from humbug>=0.3.1->deeplake) (2.27.1)\n",
      "Requirement already satisfied: six>=1.5 in /home/zhiyi/anaconda3/lib/python3.9/site-packages (from python-dateutil<3.0.0,>=2.1->botocore<1.29.77,>=1.29.76->aiobotocore[boto3]==2.5.0->aioboto3>=10.4.0->deeplake) (1.16.0)\n",
      "Requirement already satisfied: idna>=2.0 in /home/zhiyi/anaconda3/lib/python3.9/site-packages (from yarl<2.0,>=1.0->aiohttp>=3.3.1->aiobotocore[boto3]==2.5.0->aioboto3>=10.4.0->deeplake) (3.3)\n",
      "Requirement already satisfied: entrypoints in /home/zhiyi/anaconda3/lib/python3.9/site-packages (from numcodecs->deeplake) (0.4)\n",
      "Requirement already satisfied: dill>=0.3.6 in /home/zhiyi/anaconda3/lib/python3.9/site-packages (from pathos->deeplake) (0.3.6)\n",
      "Collecting pox>=0.3.2\n",
      "  Downloading pox-0.3.2-py3-none-any.whl (29 kB)\n",
      "Requirement already satisfied: multiprocess>=0.70.14 in /home/zhiyi/anaconda3/lib/python3.9/site-packages (from pathos->deeplake) (0.70.14)\n",
      "Collecting ppft>=1.7.6.6\n",
      "  Downloading ppft-1.7.6.6-py3-none-any.whl (52 kB)\n",
      "\u001b[K     |████████████████████████████████| 52 kB 4.7 MB/s  eta 0:00:01\n",
      "\u001b[?25hRequirement already satisfied: certifi>=2017.4.17 in /home/zhiyi/anaconda3/lib/python3.9/site-packages (from requests->humbug>=0.3.1->deeplake) (2021.10.8)\n",
      "Building wheels for collected packages: deeplake\n",
      "  Building wheel for deeplake (setup.py) ... \u001b[?25ldone\n",
      "\u001b[?25h  Created wheel for deeplake: filename=deeplake-3.6.8-py3-none-any.whl size=636609 sha256=f25887a3a4b0b03d424841bf8c51cec2932511ec17de3dd2c8bd20f25f80b590\n",
      "  Stored in directory: /home/zhiyi/.cache/pip/wheels/51/ac/3e/2c8551eac1b8bd26fa31e4dc839ed4ace0498ac683b91c9b4d\n",
      "Successfully built deeplake\n",
      "Installing collected packages: botocore, s3transfer, aioitertools, boto3, aiobotocore, ppft, pox, pathos, numcodecs, humbug, aioboto3, deeplake\n",
      "  Attempting uninstall: botocore\n",
      "    Found existing installation: botocore 1.24.32\n",
      "    Uninstalling botocore-1.24.32:\n",
      "      Successfully uninstalled botocore-1.24.32\n",
      "  Attempting uninstall: s3transfer\n",
      "    Found existing installation: s3transfer 0.5.0\n",
      "    Uninstalling s3transfer-0.5.0:\n",
      "      Successfully uninstalled s3transfer-0.5.0\n",
      "  Attempting uninstall: boto3\n",
      "    Found existing installation: boto3 1.21.32\n",
      "    Uninstalling boto3-1.21.32:\n",
      "      Successfully uninstalled boto3-1.21.32\n",
      "Successfully installed aioboto3-11.2.0 aiobotocore-2.5.0 aioitertools-0.11.0 boto3-1.26.76 botocore-1.29.76 deeplake-3.6.8 humbug-0.3.1 numcodecs-0.11.0 pathos-0.3.0 pox-0.3.2 ppft-1.7.6.6 s3transfer-0.6.1\n"
     ]
    }
   ],
   "source": [
    "!pip install torchvision torch\n",
    "!pip install deeplake"
   ]
  },
  {
   "cell_type": "code",
   "execution_count": 23,
   "id": "58c252c4",
   "metadata": {},
   "outputs": [
    {
     "name": "stderr",
     "output_type": "stream",
     "text": [
      "\\"
     ]
    },
    {
     "name": "stdout",
     "output_type": "stream",
     "text": [
      "Opening dataset in read-only mode as you don't have write permissions.\n"
     ]
    },
    {
     "name": "stderr",
     "output_type": "stream",
     "text": [
      "-"
     ]
    },
    {
     "name": "stdout",
     "output_type": "stream",
     "text": [
      "This dataset can be visualized in Jupyter Notebook by ds.visualize() or at https://app.activeloop.ai/activeloop/wiki-art\n",
      "\n"
     ]
    },
    {
     "name": "stderr",
     "output_type": "stream",
     "text": [
      "-"
     ]
    },
    {
     "name": "stdout",
     "output_type": "stream",
     "text": [
      "hub://activeloop/wiki-art loaded successfully.\n",
      "\n"
     ]
    },
    {
     "name": "stderr",
     "output_type": "stream",
     "text": [
      "\r",
      " \r",
      "\r",
      " \r",
      "/home/zhiyi/anaconda3/lib/python3.9/site-packages/deeplake/integrations/pytorch/common.py:126: UserWarning: Decode method for tensors ['images'] is defaulting to numpy. Please consider specifying a decode_method in .pytorch() that maximizes the data preprocessing speed based on your transformation.\n",
      "  warnings.warn(\n"
     ]
    }
   ],
   "source": [
    "import json\n",
    "import os\n",
    "\n",
    "from torch.utils.data import Dataset, DataLoader\n",
    "from torchvision import transforms\n",
    "from torchvision.io import read_image\n",
    "import torch.nn as nn\n",
    "import torch.nn.functional as F\n",
    "import deeplake\n",
    "import matplotlib.pyplot as plt\n",
    "\n",
    "ds = deeplake.load('hub://activeloop/wiki-art')\n",
    "dataloader = ds.pytorch(batch_size=4, shuffle=True)"
   ]
  },
  {
   "cell_type": "code",
   "execution_count": 30,
   "id": "7e3cef41",
   "metadata": {},
   "outputs": [
    {
     "name": "stdout",
     "output_type": "stream",
     "text": [
      "(1280, 3)\n"
     ]
    }
   ],
   "source": [
    "for data in ds[:1]:\n",
    "    print(data.images[0].shape)"
   ]
  },
  {
   "cell_type": "code",
   "execution_count": 9,
   "id": "61f5272c",
   "metadata": {},
   "outputs": [],
   "source": [
    "class Encoder(nn.Module):\n",
    "  def __init__(self, in_channels=1, act_fn=nn.ReLU()):\n",
    "    super().__init__()\n",
    "\n",
    "    self.net = nn.Sequential(\n",
    "        nn.Conv2d(in_channels, 100, 5, padding=2), # (3, 256, 256) -> (100, 256, 256)\n",
    "        act_fn,\n",
    "        nn.MaxPool2d(2, stride=2), # (100, 256, 256) -> (100, 128, 128)\n",
    "        nn.Conv2d(100, 200, 5, padding=2),# (100, 128, 128) -> (200, 128, 128)\n",
    "        act_fn,\n",
    "        nn.MaxPool2d(2, stride=2), # (200, 128, 128) -> (200, 64, 64)\n",
    "    )\n",
    "\n",
    "  def forward(self, x):\n",
    "    x = x.view(-1, 3, 256, 256)\n",
    "    output = self.net(x)\n",
    "    return output\n",
    "\n",
    "#  defining decoder\n",
    "class Decoder(nn.Module):\n",
    "  def __init__(self, in_channels=1, act_fn=nn.ReLU()):\n",
    "    super().__init__()\n",
    "\n",
    "    self.net = nn.Sequential(\n",
    "        nn.MaxUnPool2d(2, stride=2), # (200, 64, 64) -> (200, 128, 128)\n",
    "        nn.ConvTranspose2d(200, 100, 5), # (200, 128, 128) -> (100, 128, 128)\n",
    "        act_fn,\n",
    "        nn.MaxUnPool2d(2, stride=2), # (100, 128, 128) -> (200, 256, 256)\n",
    "        nn.ConvTranspose2d(100, 3, 5),# (100, 256, 256) -> (3, 256, 256)\n",
    "    )\n",
    "\n",
    "  def forward(self, x):\n",
    "    output = self.conv(x)\n",
    "    output = F.sigmoid(output)\n",
    "    return output\n",
    "\n",
    "#  defining autoencoder\n",
    "class Autoencoder(nn.Module):\n",
    "  def __init__(self, encoder, decoder, device):\n",
    "    super().__init__()\n",
    "    self.encoder = encoder\n",
    "    self.encoder.to(device)\n",
    "\n",
    "    self.decoder = decoder\n",
    "    self.decoder.to(device)\n",
    "\n",
    "  def forward(self, x):\n",
    "    encoded = self.encoder(x)\n",
    "    decoded = self.decoder(encoded)\n",
    "    return decoded\n"
   ]
  },
  {
   "cell_type": "code",
   "execution_count": null,
   "id": "b6e10074",
   "metadata": {},
   "outputs": [],
   "source": [
    "class MaskImageDataset(Dataset):\n",
    "\n",
    "    def __init__(self, image_dir, device, preprocess, test=False):\n",
    "        self.input_dir = image_dir\n",
    "        self.test = test\n",
    "        self.device = device\n",
    "        self.preprocess = preprocess\n",
    "\n",
    "    def __len__(self):\n",
    "        return len(os.listdir(self.input_dir))\n",
    "\n",
    "    def __getitem__(self, idx):\n",
    "        input_path = os.path.join(self.input_dir, \"satimage_\" + str(idx) + \"_noisy.png\")\n",
    "        image = read_image(input_path)\n",
    "        image = image[:3, :, :]  # Works with 3 channels\n",
    "        image = self.preprocess(image)\n",
    "        if (self.test):\n",
    "            image = torch.tensor(image.permute(0, 2, 1))\n",
    "            return image.to(self.device)\n",
    "        else:\n",
    "            label_path = os.path.join(self.label_dir, \"satimage_\" + str(idx) + \".png\")\n",
    "            label = read_image(label_path)\n",
    "            label = label[:1, :, :]\n",
    "            label = self.preprocess(label)\n",
    "            image = torch.tensor(image.permute(0, 2, 1))\n",
    "            label = torch.tensor((label.permute(0, 2, 1)))\n",
    "            return image.to(self.device), label.to(self.device)  # Permutation is needed because images are read CHW, and library wants additional dimension\n",
    "# %%"
   ]
  },
  {
   "cell_type": "code",
   "execution_count": null,
   "id": "ebc3b53a",
   "metadata": {},
   "outputs": [],
   "source": []
  },
  {
   "cell_type": "code",
   "execution_count": null,
   "id": "50022ad5",
   "metadata": {},
   "outputs": [],
   "source": []
  }
 ],
 "metadata": {
  "kernelspec": {
   "display_name": "Python 3 (ipykernel)",
   "language": "python",
   "name": "python3"
  },
  "language_info": {
   "codemirror_mode": {
    "name": "ipython",
    "version": 3
   },
   "file_extension": ".py",
   "mimetype": "text/x-python",
   "name": "python",
   "nbconvert_exporter": "python",
   "pygments_lexer": "ipython3",
   "version": "3.9.12"
  }
 },
 "nbformat": 4,
 "nbformat_minor": 5
}
